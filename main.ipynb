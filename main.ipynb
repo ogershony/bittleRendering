{
 "cells": [
  {
   "cell_type": "code",
   "execution_count": 1,
   "metadata": {},
   "outputs": [
    {
     "ename": "ValueError",
     "evalue": "Error: Error opening file 'assets/descriptions/bittle/urdf/base_frame.001.obj': No such file or directory",
     "output_type": "error",
     "traceback": [
      "\u001b[31m---------------------------------------------------------------------------\u001b[39m",
      "\u001b[31mValueError\u001b[39m                                Traceback (most recent call last)",
      "\u001b[36mCell\u001b[39m\u001b[36m \u001b[39m\u001b[32mIn[1]\u001b[39m\u001b[32m, line 4\u001b[39m\n\u001b[32m      1\u001b[39m \u001b[38;5;28;01mimport\u001b[39;00m\u001b[38;5;250m \u001b[39m\u001b[34;01mmujoco\u001b[39;00m\n\u001b[32m      3\u001b[39m \u001b[38;5;66;03m# This automatically handles conversion internally\u001b[39;00m\n\u001b[32m----> \u001b[39m\u001b[32m4\u001b[39m model = \u001b[43mmujoco\u001b[49m\u001b[43m.\u001b[49m\u001b[43mMjModel\u001b[49m\u001b[43m.\u001b[49m\u001b[43mfrom_xml_path\u001b[49m\u001b[43m(\u001b[49m\u001b[33;43m\"\u001b[39;49m\u001b[33;43massets/descriptions/bittle/urdf/bittle.urdf\u001b[39;49m\u001b[33;43m\"\u001b[39;49m\u001b[43m)\u001b[49m\n\u001b[32m      6\u001b[39m \u001b[38;5;66;03m# If you want to save the converted model\u001b[39;00m\n\u001b[32m      7\u001b[39m xml_string = mujoco.mj_saveLastXML(\u001b[33m\"\u001b[39m\u001b[33massets/descriptions/bittle/mjcf/bittle.mjcf\u001b[39m\u001b[33m\"\u001b[39m, model)\n",
      "\u001b[31mValueError\u001b[39m: Error: Error opening file 'assets/descriptions/bittle/urdf/base_frame.001.obj': No such file or directory"
     ]
    }
   ],
   "source": []
  }
 ],
 "metadata": {
  "kernelspec": {
   "display_name": "renderingEnv",
   "language": "python",
   "name": "python3"
  },
  "language_info": {
   "codemirror_mode": {
    "name": "ipython",
    "version": 3
   },
   "file_extension": ".py",
   "mimetype": "text/x-python",
   "name": "python",
   "nbconvert_exporter": "python",
   "pygments_lexer": "ipython3",
   "version": "3.13.5"
  }
 },
 "nbformat": 4,
 "nbformat_minor": 2
}
